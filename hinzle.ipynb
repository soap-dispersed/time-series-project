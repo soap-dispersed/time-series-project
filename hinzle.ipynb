{
 "cells": [
  {
   "cell_type": "code",
   "execution_count": 4,
   "metadata": {},
   "outputs": [],
   "source": [
    "from imports import *\n",
    "from acquire import *"
   ]
  },
  {
   "cell_type": "code",
   "execution_count": 5,
   "metadata": {},
   "outputs": [
    {
     "name": "stdout",
     "output_type": "stream",
     "text": [
      "Reading from local CSV...\n"
     ]
    }
   ],
   "source": [
    "df=get_data()"
   ]
  },
  {
   "cell_type": "code",
   "execution_count": 8,
   "metadata": {},
   "outputs": [
    {
     "name": "stdout",
     "output_type": "stream",
     "text": [
      "<class 'pandas.core.frame.DataFrame'>\n",
      "RangeIndex: 1734 entries, 0 to 1733\n",
      "Data columns (total 21 columns):\n",
      " #   Column         Non-Null Count  Dtype  \n",
      "---  ------         --------------  -----  \n",
      " 0   Order ID       1734 non-null   object \n",
      " 1   Order Date     1734 non-null   object \n",
      " 2   Ship Date      1734 non-null   object \n",
      " 3   Ship Mode      1734 non-null   object \n",
      " 4   Customer ID    1734 non-null   object \n",
      " 5   Segment        1734 non-null   object \n",
      " 6   Country        1734 non-null   object \n",
      " 7   City           1734 non-null   object \n",
      " 8   State          1734 non-null   object \n",
      " 9   Postal Code    1734 non-null   float64\n",
      " 10  Product ID     1734 non-null   object \n",
      " 11  Sales          1734 non-null   float64\n",
      " 12  Quantity       1734 non-null   float64\n",
      " 13  Discount       1734 non-null   float64\n",
      " 14  Profit         1734 non-null   float64\n",
      " 15  Category ID    1734 non-null   int64  \n",
      " 16  Region ID      1734 non-null   int64  \n",
      " 17  Category       1734 non-null   object \n",
      " 18  Product Name   1734 non-null   object \n",
      " 19  Customer Name  1734 non-null   object \n",
      " 20  Region Name    1734 non-null   object \n",
      "dtypes: float64(5), int64(2), object(14)\n",
      "memory usage: 284.6+ KB\n"
     ]
    }
   ],
   "source": [
    "df.info()"
   ]
  },
  {
   "cell_type": "code",
   "execution_count": 14,
   "metadata": {},
   "outputs": [],
   "source": [
    "def prep_data(df):\n",
    "    for col in df.columns:\n",
    "        df = df.rename(columns={col: col.lower().replace(' ', '_')})\n",
    "    return df"
   ]
  },
  {
   "cell_type": "code",
   "execution_count": 15,
   "metadata": {},
   "outputs": [],
   "source": [
    "df=prep_data(df)"
   ]
  },
  {
   "cell_type": "code",
   "execution_count": 16,
   "metadata": {},
   "outputs": [
    {
     "data": {
      "text/html": [
       "<div>\n",
       "<style scoped>\n",
       "    .dataframe tbody tr th:only-of-type {\n",
       "        vertical-align: middle;\n",
       "    }\n",
       "\n",
       "    .dataframe tbody tr th {\n",
       "        vertical-align: top;\n",
       "    }\n",
       "\n",
       "    .dataframe thead th {\n",
       "        text-align: right;\n",
       "    }\n",
       "</style>\n",
       "<table border=\"1\" class=\"dataframe\">\n",
       "  <thead>\n",
       "    <tr style=\"text-align: right;\">\n",
       "      <th></th>\n",
       "      <th>order_id</th>\n",
       "      <th>order_date</th>\n",
       "      <th>ship_date</th>\n",
       "      <th>ship_mode</th>\n",
       "      <th>customer_id</th>\n",
       "      <th>segment</th>\n",
       "      <th>country</th>\n",
       "      <th>city</th>\n",
       "      <th>state</th>\n",
       "      <th>postal_code</th>\n",
       "      <th>product_id</th>\n",
       "      <th>sales</th>\n",
       "      <th>quantity</th>\n",
       "      <th>discount</th>\n",
       "      <th>profit</th>\n",
       "      <th>category_id</th>\n",
       "      <th>region_id</th>\n",
       "      <th>category</th>\n",
       "      <th>product_name</th>\n",
       "      <th>customer_name</th>\n",
       "      <th>region_name</th>\n",
       "    </tr>\n",
       "  </thead>\n",
       "  <tbody>\n",
       "    <tr>\n",
       "      <th>0</th>\n",
       "      <td>CA-2016-152156</td>\n",
       "      <td>2016-11-08</td>\n",
       "      <td>2016-11-11</td>\n",
       "      <td>Second Class</td>\n",
       "      <td>CG-12520</td>\n",
       "      <td>Consumer</td>\n",
       "      <td>United States</td>\n",
       "      <td>Henderson</td>\n",
       "      <td>Kentucky</td>\n",
       "      <td>42420.0</td>\n",
       "      <td>FUR-BO-10001798</td>\n",
       "      <td>261.9600</td>\n",
       "      <td>2.0</td>\n",
       "      <td>0.00</td>\n",
       "      <td>41.9136</td>\n",
       "      <td>1</td>\n",
       "      <td>1</td>\n",
       "      <td>Furniture</td>\n",
       "      <td>Bush Somerset Collection Bookcase</td>\n",
       "      <td>Claire Gute</td>\n",
       "      <td>South</td>\n",
       "    </tr>\n",
       "    <tr>\n",
       "      <th>1</th>\n",
       "      <td>CA-2016-152156</td>\n",
       "      <td>2016-11-08</td>\n",
       "      <td>2016-11-11</td>\n",
       "      <td>Second Class</td>\n",
       "      <td>CG-12520</td>\n",
       "      <td>Consumer</td>\n",
       "      <td>United States</td>\n",
       "      <td>Henderson</td>\n",
       "      <td>Kentucky</td>\n",
       "      <td>42420.0</td>\n",
       "      <td>FUR-CH-10000454</td>\n",
       "      <td>731.9400</td>\n",
       "      <td>3.0</td>\n",
       "      <td>0.00</td>\n",
       "      <td>219.5820</td>\n",
       "      <td>2</td>\n",
       "      <td>1</td>\n",
       "      <td>Furniture</td>\n",
       "      <td>Hon Deluxe Fabric Upholstered Stacking Chairs, Rounded Back</td>\n",
       "      <td>Claire Gute</td>\n",
       "      <td>South</td>\n",
       "    </tr>\n",
       "    <tr>\n",
       "      <th>2</th>\n",
       "      <td>CA-2016-138688</td>\n",
       "      <td>2016-06-12</td>\n",
       "      <td>2016-06-16</td>\n",
       "      <td>Second Class</td>\n",
       "      <td>DV-13045</td>\n",
       "      <td>Corporate</td>\n",
       "      <td>United States</td>\n",
       "      <td>Los Angeles</td>\n",
       "      <td>California</td>\n",
       "      <td>90036.0</td>\n",
       "      <td>OFF-LA-10000240</td>\n",
       "      <td>14.6200</td>\n",
       "      <td>2.0</td>\n",
       "      <td>0.00</td>\n",
       "      <td>6.8714</td>\n",
       "      <td>3</td>\n",
       "      <td>2</td>\n",
       "      <td>Office Supplies</td>\n",
       "      <td>Self-Adhesive Address Labels for Typewriters by Universal</td>\n",
       "      <td>Darrin Van Huff</td>\n",
       "      <td>West</td>\n",
       "    </tr>\n",
       "    <tr>\n",
       "      <th>3</th>\n",
       "      <td>US-2015-108966</td>\n",
       "      <td>2015-10-11</td>\n",
       "      <td>2015-10-18</td>\n",
       "      <td>Standard Class</td>\n",
       "      <td>SO-20335</td>\n",
       "      <td>Consumer</td>\n",
       "      <td>United States</td>\n",
       "      <td>Fort Lauderdale</td>\n",
       "      <td>Florida</td>\n",
       "      <td>33311.0</td>\n",
       "      <td>FUR-TA-10000577</td>\n",
       "      <td>957.5775</td>\n",
       "      <td>5.0</td>\n",
       "      <td>0.45</td>\n",
       "      <td>-383.0310</td>\n",
       "      <td>4</td>\n",
       "      <td>1</td>\n",
       "      <td>Furniture</td>\n",
       "      <td>Bretford CR4500 Series Slim Rectangular Table</td>\n",
       "      <td>Sean O'Donnell</td>\n",
       "      <td>South</td>\n",
       "    </tr>\n",
       "    <tr>\n",
       "      <th>4</th>\n",
       "      <td>US-2015-108966</td>\n",
       "      <td>2015-10-11</td>\n",
       "      <td>2015-10-18</td>\n",
       "      <td>Standard Class</td>\n",
       "      <td>SO-20335</td>\n",
       "      <td>Consumer</td>\n",
       "      <td>United States</td>\n",
       "      <td>Fort Lauderdale</td>\n",
       "      <td>Florida</td>\n",
       "      <td>33311.0</td>\n",
       "      <td>OFF-ST-10000760</td>\n",
       "      <td>22.3680</td>\n",
       "      <td>2.0</td>\n",
       "      <td>0.20</td>\n",
       "      <td>2.5164</td>\n",
       "      <td>5</td>\n",
       "      <td>1</td>\n",
       "      <td>Office Supplies</td>\n",
       "      <td>Eldon Fold 'N Roll Cart System</td>\n",
       "      <td>Sean O'Donnell</td>\n",
       "      <td>South</td>\n",
       "    </tr>\n",
       "  </tbody>\n",
       "</table>\n",
       "</div>"
      ],
      "text/plain": [
       "         order_id  order_date   ship_date       ship_mode customer_id  \\\n",
       "0  CA-2016-152156  2016-11-08  2016-11-11    Second Class    CG-12520   \n",
       "1  CA-2016-152156  2016-11-08  2016-11-11    Second Class    CG-12520   \n",
       "2  CA-2016-138688  2016-06-12  2016-06-16    Second Class    DV-13045   \n",
       "3  US-2015-108966  2015-10-11  2015-10-18  Standard Class    SO-20335   \n",
       "4  US-2015-108966  2015-10-11  2015-10-18  Standard Class    SO-20335   \n",
       "\n",
       "     segment        country             city       state  postal_code  \\\n",
       "0   Consumer  United States        Henderson    Kentucky      42420.0   \n",
       "1   Consumer  United States        Henderson    Kentucky      42420.0   \n",
       "2  Corporate  United States      Los Angeles  California      90036.0   \n",
       "3   Consumer  United States  Fort Lauderdale     Florida      33311.0   \n",
       "4   Consumer  United States  Fort Lauderdale     Florida      33311.0   \n",
       "\n",
       "        product_id     sales  quantity  discount    profit  category_id  \\\n",
       "0  FUR-BO-10001798  261.9600       2.0      0.00   41.9136            1   \n",
       "1  FUR-CH-10000454  731.9400       3.0      0.00  219.5820            2   \n",
       "2  OFF-LA-10000240   14.6200       2.0      0.00    6.8714            3   \n",
       "3  FUR-TA-10000577  957.5775       5.0      0.45 -383.0310            4   \n",
       "4  OFF-ST-10000760   22.3680       2.0      0.20    2.5164            5   \n",
       "\n",
       "   region_id         category  \\\n",
       "0          1        Furniture   \n",
       "1          1        Furniture   \n",
       "2          2  Office Supplies   \n",
       "3          1        Furniture   \n",
       "4          1  Office Supplies   \n",
       "\n",
       "                                                  product_name  \\\n",
       "0                            Bush Somerset Collection Bookcase   \n",
       "1  Hon Deluxe Fabric Upholstered Stacking Chairs, Rounded Back   \n",
       "2    Self-Adhesive Address Labels for Typewriters by Universal   \n",
       "3                Bretford CR4500 Series Slim Rectangular Table   \n",
       "4                               Eldon Fold 'N Roll Cart System   \n",
       "\n",
       "     customer_name region_name  \n",
       "0      Claire Gute       South  \n",
       "1      Claire Gute       South  \n",
       "2  Darrin Van Huff        West  \n",
       "3   Sean O'Donnell       South  \n",
       "4   Sean O'Donnell       South  "
      ]
     },
     "execution_count": 16,
     "metadata": {},
     "output_type": "execute_result"
    }
   ],
   "source": [
    "df.head()"
   ]
  },
  {
   "cell_type": "code",
   "execution_count": null,
   "metadata": {},
   "outputs": [],
   "source": [
    "drops=[\n",
    "\t'country',\n",
    "\t\n",
    "]"
   ]
  },
  {
   "cell_type": "code",
   "execution_count": 18,
   "metadata": {},
   "outputs": [
    {
     "data": {
      "text/plain": [
       "United States    1734\n",
       "Name: country, dtype: int64"
      ]
     },
     "execution_count": 18,
     "metadata": {},
     "output_type": "execute_result"
    }
   ],
   "source": [
    "df.country.value_counts()"
   ]
  }
 ],
 "metadata": {
  "interpreter": {
   "hash": "3067ead486e059ec00ffe7555bdb889e6e264a24dc711bf108106cc7baee8d5d"
  },
  "kernelspec": {
   "display_name": "Python 3.9.12 ('base')",
   "language": "python",
   "name": "python3"
  },
  "language_info": {
   "codemirror_mode": {
    "name": "ipython",
    "version": 3
   },
   "file_extension": ".py",
   "mimetype": "text/x-python",
   "name": "python",
   "nbconvert_exporter": "python",
   "pygments_lexer": "ipython3",
   "version": "3.9.12"
  },
  "orig_nbformat": 4
 },
 "nbformat": 4,
 "nbformat_minor": 2
}
