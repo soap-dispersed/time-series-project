{
 "cells": [
  {
   "cell_type": "code",
   "execution_count": 1,
   "id": "b221c169",
   "metadata": {},
   "outputs": [],
   "source": [
    "import env\n",
    "import pandas as pd\n",
    "import numpy as np"
   ]
  },
  {
   "cell_type": "code",
   "execution_count": null,
   "id": "7f313138",
   "metadata": {},
   "outputs": [],
   "source": [
    "url = get_db_url('superstore')\n",
    "sql = '''\n",
    "      SELECT ord.*,\n",
    "             cat.Category,\n",
    "             prod.'Product Name'\n",
    "             \n",
    "      \n",
    "      '''"
   ]
  }
 ],
 "metadata": {
  "kernelspec": {
   "display_name": "Python 3 (ipykernel)",
   "language": "python",
   "name": "python3"
  },
  "language_info": {
   "codemirror_mode": {
    "name": "ipython",
    "version": 3
   },
   "file_extension": ".py",
   "mimetype": "text/x-python",
   "name": "python",
   "nbconvert_exporter": "python",
   "pygments_lexer": "ipython3",
   "version": "3.9.7"
  }
 },
 "nbformat": 4,
 "nbformat_minor": 5
}
